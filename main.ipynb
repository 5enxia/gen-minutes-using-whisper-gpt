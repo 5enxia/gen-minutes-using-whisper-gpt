{
 "cells": [
  {
   "cell_type": "code",
   "execution_count": 2,
   "metadata": {},
   "outputs": [],
   "source": [
    "!pip3 install openai"
   ]
  },
  {
   "cell_type": "code",
   "execution_count": null,
   "metadata": {},
   "outputs": [],
   "source": [
    "api_key = \"\" # OpenAIのAPIキー\n",
    "audio_file_path = \"\" # 音声ファイルのパス"
   ]
  },
  {
   "cell_type": "code",
   "execution_count": null,
   "metadata": {},
   "outputs": [],
   "source": [
    "import openai\n",
    "openai.api_key = api_key"
   ]
  },
  {
   "cell_type": "code",
   "execution_count": 2,
   "metadata": {},
   "outputs": [],
   "source": [
    "# 音声ファイルを読み込み、OpenAIのAPIに送信\n",
    "with open(audio_file_path, \"rb\") as f:\n",
    "    transcribe = openai.Audio.transcribe(\"whisper-1\", f)\n",
    "transcript = transcribe['text']"
   ]
  },
  {
   "cell_type": "code",
   "execution_count": 3,
   "metadata": {},
   "outputs": [],
   "source": [
    "# 文字起こしの結果を保存\n",
    "import json\n",
    "with open(f'transcribe.json', 'w') as f:\n",
    "    json.dump(transcribe, f, indent=4)"
   ]
  },
  {
   "cell_type": "code",
   "execution_count": 4,
   "metadata": {},
   "outputs": [],
   "source": [
    "# プロンプトを作成\n",
    "## プロンプトによって結果が変わるので、ここを色々と変えてみる\n",
    "agenda_format = f\"\"\"\n",
    "売上\n",
    "- 先月\n",
    "- 今月\n",
    "\n",
    "アクション\n",
    "- 今月\n",
    "- 来月\n",
    "\"\"\""
   ]
  },
  {
   "cell_type": "code",
   "execution_count": null,
   "metadata": {},
   "outputs": [],
   "source": [
    "prompt = f\"\"\"以下は、ある会議の文字起こしです。\n",
    "\n",
    "{transcript}\n",
    "\n",
    "この会議の議事録を作成してください。\n",
    "フォーマットは以下の通りです。\n",
    "\n",
    "{agenda_format}\n",
    "\"\"\""
   ]
  },
  {
   "cell_type": "code",
   "execution_count": 5,
   "metadata": {},
   "outputs": [],
   "source": [
    "# プロンプトをOpenAIのAPIに送信\n",
    "response = openai.Completion.create(model=\"text-davinci-003\", prompt=prompt, max_tokens=1024, temperature=1.0, top_p=1.0, frequency_penalty=0.02)\n",
    "summary = response['choices'][0]['text']"
   ]
  },
  {
   "cell_type": "code",
   "execution_count": 6,
   "metadata": {},
   "outputs": [],
   "source": [
    "# 結果を保存\n",
    "with open(f'summary.txt', 'w') as f:\n",
    "    f.write(summary)"
   ]
  }
 ],
 "metadata": {
  "kernelspec": {
   "display_name": "Python 3",
   "language": "python",
   "name": "python3"
  },
  "language_info": {
   "codemirror_mode": {
    "name": "ipython",
    "version": 3
   },
   "file_extension": ".py",
   "mimetype": "text/x-python",
   "name": "python",
   "nbconvert_exporter": "python",
   "pygments_lexer": "ipython3",
   "version": "3.9.12"
  },
  "orig_nbformat": 4
 },
 "nbformat": 4,
 "nbformat_minor": 2
}
